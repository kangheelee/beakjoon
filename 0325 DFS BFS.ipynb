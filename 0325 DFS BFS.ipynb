{
 "cells": [
  {
   "cell_type": "markdown",
   "metadata": {},
   "source": [
    "## 2178 미로탐색\n",
    "https://www.acmicpc.net/problem/1012\n",
    "\n",
    "미로, 배추 둘다 같은 방식 (파이리의 파이썬? 블로그 참고)  \n",
    "똑같이 BFS, DFS를 큐와 스택으로 접근했는데  \n",
    "이 또한 그래프(dict)가 아니라 배열(matrix)로 풀었다는 것!!\n",
    "상당히 직관적!!"
   ]
  },
  {
   "cell_type": "code",
   "execution_count": null,
   "metadata": {},
   "outputs": [],
   "source": [
    "#BFS로 미로 탈출 알고리즘 정의\n",
    "def bfs(maze, i, j, N, M):\n",
    "    visited = [] #방문한 노드\n",
    "    queue = [[i, j]] #BFS로 사용될 큐\n",
    "    distance = [[0 for _ in range(M)] for _ in range(N)] #해당 지점까지의 거리를 담는 리스트\n",
    "    distance[0][0] = 1 #첫 시작은 1\n",
    "    \n",
    "    while queue: \n",
    "        [i, j] = queue.pop(0) #BFS 큐에 넣어줌\n",
    "        visited.append([i, j]) #방문 리스트에 쌓아줌\n",
    "        \n",
    "        #상하좌우 탐색\n",
    "        ## 하로 한칸\n",
    "        if i < N-1 and maze[i+1][j] == 1 and [i+1, j] not in visited and [i+1, j] not in queue:\n",
    "            queue.append([i+1, j])                 # 현재 큐 기준으로 다음 큐를 넣어줌\n",
    "            distance[i+1][j] = distance[i][j] + 1  # 거리 업데이트\n",
    "            \n",
    "        ## 우로 한칸\n",
    "        if j < M-1 and maze[i][j+1] == 1 and [i, j+1] not in visited and [i, j+1] not in queue:\n",
    "            queue.append([i, j+1])\n",
    "            distance[i][j+1] = distance[i][j] + 1  \n",
    "            \n",
    "        ## 좌로 한칸\n",
    "        if j > 0 and maze[i][j-1] == 1 and [i, j-1] not in visited and [i, j-1] not in queue:\n",
    "            queue.append([i, j-1])\n",
    "            distance[i][j-1] = distance[i][j] + 1\n",
    "        \n",
    "        ## 상으로 한칸\n",
    "        if i > 0 and maze[i-1][j] == 1 and [i-1, j] not in visited and [i-1, j] not in queue:\n",
    "            queue.append([i-1, j])\n",
    "            distance[i-1][j] = distance[i][j] + 1\n",
    "            \n",
    "    return distance[N-1][M-1] #마지막 도착지의 거리를 반환\n",
    "\n",
    "\n",
    "#Input담기\n",
    "N, M = map(int, input().split())\n",
    "maze = []\n",
    "for _ in range(N): #미로를 2차원 배열로 받음\n",
    "    maze.append(list(map(int, str(input()))))\n",
    "\n",
    "#정답 출력\n",
    "print(bfs(maze,0,0,N,M))"
   ]
  },
  {
   "cell_type": "code",
   "execution_count": null,
   "metadata": {},
   "outputs": [],
   "source": [
    "\n"
   ]
  },
  {
   "cell_type": "markdown",
   "metadata": {},
   "source": [
    "## 1012 유기농 배추\n",
    "https://www.acmicpc.net/problem/2178  "
   ]
  },
  {
   "cell_type": "code",
   "execution_count": 2,
   "metadata": {},
   "outputs": [
    {
     "name": "stdout",
     "output_type": "stream",
     "text": [
      "[[0, 0, 0], [0, 0, 0], [0, 0, 0], [0, 0, 0], [0, 0, 0]]\n"
     ]
    }
   ],
   "source": [
    "def bfs(farm, i, j, M, N, visited):\n",
    "    \n",
    "    if farm[i][j] == 0: #0일 경우 함수를 넘김\n",
    "        visited.append([i, j])  # 방문한 적 있는 리스트 쌓기\n",
    "        return [0, visited]     # visited를 꼭 반환해주어야 업데이트와 유지가 동시에 된다~!!\n",
    "    \n",
    "    block = []       #함수 안에서만 쓰일 블록, 붙어있는 배추 그룹을 의미\n",
    "    queue = [[i, j]] #함수 안에서만 쓰일 큐\n",
    "    \n",
    "    while queue:\n",
    "        [i, j] = queue.pop(0)  #(0)해줘야 큐, 안해주면 스택이므로 DFS가 된다 개꿀!\n",
    "        block.append([i, j])   #블록에 쌓아줌\n",
    "        visited.append([i, j]) #방문 리스트에 쌓아줌\n",
    "        \n",
    "        if farm[i][j] == 1:    #각각 상하좌우를 확인하는 조건문\n",
    "            ##상\n",
    "            if i < N-1 and farm[i+1][j] == 1 and [i+1, j] not in block and [i+1, j] not in queue:\n",
    "                queue.append([i+1, j])\n",
    "            ##우₩\n",
    "            if j < M-1 and farm[i][j+1] == 1 and [i, j+1] not in block and [i, j+1] not in queue:\n",
    "                queue.append([i, j+1])\n",
    "            ##좌\n",
    "            if j > 0 and farm[i][j-1] == 1 and [i, j-1] not in block and [i, j-1] not in queue:\n",
    "                queue.append([i, j-1])\n",
    "            ##하\n",
    "            if i > 0 and farm[i-1][j] == 1 and [i-1, j] not in block and [i-1, j] not in queue:\n",
    "                queue.append([i-1, j])\n",
    "\n",
    "    return [len(block), visited] \n",
    "\n",
    "\n",
    "#case 몇번 수행?\n",
    "case = int(input())\n",
    "\n",
    "for _ in range(case):\n",
    "    M, N, K = map(int, input().split())\n",
    "    \n",
    "    #농장 형태 리스트화\n",
    "    farm = [[0 for _ in range(M)] for _ in range(N)]\n",
    "    \n",
    "    #배추 있는 공간 표시\n",
    "    for _ in range(K):\n",
    "        X, Y = map(int,input().split())\n",
    "        farm[Y][X] = 1\n",
    "    \n",
    "    visited = []\n",
    "    result = 0\n",
    "    \n",
    "    #0,0부터 끝까지 실행\n",
    "    for i in range(N):\n",
    "        for j in range(M):\n",
    "            if [i, j] not in visited:\n",
    "                [size, visited] = bfs(farm,i,j,M,N,visited)\n",
    "                if size != 0: #배추가 있는 농가만\n",
    "                    result += 1 \n",
    "                    \n",
    "\t#배추 그룹은 몇개?\n",
    "    print(result)"
   ]
  },
  {
   "cell_type": "markdown",
   "metadata": {},
   "source": [
    "### DFS + 동서남북으로 풀어보기"
   ]
  },
  {
   "cell_type": "code",
   "execution_count": null,
   "metadata": {},
   "outputs": [],
   "source": [
    "import sys\n",
    "sys.setrecursionlimit(50000) #재귀제한높이설정(기본값이상으로 안해주면 런타임에러) ※기본값:1000\n",
    "\n",
    "dx=[-1,0,1,0]\n",
    "dy=[0,1,0,-1]\n",
    "cnt=0\n",
    "land=[]\n",
    "\n",
    "# dfs로 연결된 부분 다 0으로 바꿔버리는 코드\n",
    "def dfs(x,y):\n",
    "    matrix[x][y]= 0\n",
    "    for i in range(4):\n",
    "        nx=x+dx[i]\n",
    "        ny=y+dy[i]\n",
    "        if nx<0 or nx>=m or ny<0 or ny>=n:\n",
    "            continue\n",
    "        if matrix[nx][ny] == 1:\n",
    "            dfs(nx,ny) # 요부분이 재귀이자 DFS의 핵심이쥬?\n",
    "\n",
    "#탐색해서 1이 나올 때 dfs()함수로 다 0으로 바꿔버려서 결국 count는 1밖에 안됨.\n",
    "def solve():\n",
    "    cnt=0\n",
    "    for i in range(m):\n",
    "        for j in range(n):\n",
    "            if matrix[i][j] == 1:\n",
    "                dfs(i,j)\n",
    "                cnt+=1\n",
    "    print(cnt)\n",
    "\n",
    "# 매트릭스를 만들고 위를 돌리는 코드~~\n",
    "t=int(input())\n",
    "for _ in range(t):\n",
    "    m,n,k = list(map(int,sys.stdin.readline().split()))\n",
    "    matrix=[[0]*n for _ in range(m)]\n",
    "    for _ in range(k):\n",
    "        link=list(map(int,input().split()))\n",
    "        matrix[link[0]][link[1]]=1\n",
    "    solve()"
   ]
  }
 ],
 "metadata": {
  "kernelspec": {
   "display_name": "Python 3",
   "language": "python",
   "name": "python3"
  },
  "language_info": {
   "codemirror_mode": {
    "name": "ipython",
    "version": 3
   },
   "file_extension": ".py",
   "mimetype": "text/x-python",
   "name": "python",
   "nbconvert_exporter": "python",
   "pygments_lexer": "ipython3",
   "version": "3.7.6"
  }
 },
 "nbformat": 4,
 "nbformat_minor": 4
}
