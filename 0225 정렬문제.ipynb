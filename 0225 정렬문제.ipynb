{
 "cells": [
  {
   "cell_type": "markdown",
   "metadata": {},
   "source": [
    "# 0225  \n",
    "\n",
    "참고 : (https://www.acmicpc.net/step/9)\n",
    "\n",
    "dict 공부 : https://wikidocs.net/16043"
   ]
  },
  {
   "cell_type": "markdown",
   "metadata": {},
   "source": [
    "## 2750 수 정렬하기(버블ver) 큰 게 뒤에 쌓이는 느낌"
   ]
  },
  {
   "cell_type": "code",
   "execution_count": 42,
   "metadata": {},
   "outputs": [
    {
     "name": "stdout",
     "output_type": "stream",
     "text": [
      "5\n",
      "2\n",
      "8\n",
      "7\n",
      "1\n",
      "3\n",
      "1\n",
      "2\n",
      "3\n",
      "7\n",
      "8\n"
     ]
    }
   ],
   "source": [
    "n = int(input())\n",
    "num_list = []\n",
    "\n",
    "for _ in range(n):\n",
    "    num_list.append(int(input()))\n",
    "    \n",
    "cal = 0\n",
    "for index in range(len(num_list) -1):\n",
    "    stack = 0 # 초기화\n",
    "    for index2 in range(len(num_list) -1 - index): # 끝에는 해줄 필요 없으니 하나씩 계산을 줄여준다.\n",
    "        if num_list[index2] > num_list[index2 + 1]:\n",
    "            num_list[index2], num_list[index2 + 1] = num_list[index2 + 1], num_list[index2]\n",
    "            stack = 1\n",
    "            cal += 1 #작동이 몇번 이루어졌는지\n",
    "    if stack == 0: # 한번도 작동이 안이루어졌을 경우 탈출!\n",
    "        break\n",
    "\n",
    "for _ in range(n):\n",
    "    print(num_list[_])"
   ]
  },
  {
   "cell_type": "code",
   "execution_count": 27,
   "metadata": {},
   "outputs": [],
   "source": [
    "# - index 와 중간에 break 없을 때와의 횟수 비교\n",
    "cal = 0\n",
    "for index in range(len(num_list) -1):\n",
    "    for index2 in range(len(num_list) -1):\n",
    "        if num_list[index2] > num_list[index2 + 1]:\n",
    "            num_list[index2], num_list[index2 + 1] = num_list[index2 + 1], num_list[index2]\n",
    "            cal += 1"
   ]
  },
  {
   "cell_type": "markdown",
   "metadata": {},
   "source": [
    "## 2750 수 정렬하기(선택ver) 작은 게 앞에 쌓이는 느낌 (이게 더 속도가 빨랐음)"
   ]
  },
  {
   "cell_type": "code",
   "execution_count": 52,
   "metadata": {},
   "outputs": [
    {
     "name": "stdout",
     "output_type": "stream",
     "text": [
      "5\n",
      "5\n",
      "4\n",
      "3\n",
      "2\n",
      "1\n",
      "[1, 2, 3, 4, 5]\n"
     ]
    }
   ],
   "source": [
    "def selection(data):\n",
    "    for index in range(len(data) - 1):\n",
    "        lowest = index\n",
    "        for index2 in range(index + 1, len(data)):\n",
    "            if data[lowest] > data[index2]:\n",
    "                lowest = index2\n",
    "        data[index], data[lowest] = data[lowest], data[index]\n",
    "    return(data)\n",
    "\n",
    "n = int(input())\n",
    "data = []\n",
    "\n",
    "for _ in range(n):\n",
    "    data.append(int(input()))\n",
    "\n",
    "selection(data)\n",
    "for _ in range(n):\n",
    "    print(data[_])"
   ]
  },
  {
   "cell_type": "markdown",
   "metadata": {},
   "source": [
    "## 2751 : 내장함수... sort()... 시간초과네"
   ]
  },
  {
   "cell_type": "code",
   "execution_count": 18,
   "metadata": {
    "scrolled": true
   },
   "outputs": [
    {
     "name": "stdout",
     "output_type": "stream",
     "text": [
      "5\n",
      "5\n",
      "7\n",
      "2\n",
      "1\n",
      "9\n",
      "1\n",
      "2\n",
      "5\n",
      "7\n",
      "9\n"
     ]
    }
   ],
   "source": [
    "numlist = []\n",
    "N = int(input())\n",
    "\n",
    "for n in range(N):\n",
    "    new = int(input())\n",
    "    numlist.append(new) #일단 뒤에 쌓아\n",
    "\n",
    "numlist.sort()\n",
    "for _ in range(len(numlist)):\n",
    "    print(numlist[_])"
   ]
  },
  {
   "cell_type": "markdown",
   "metadata": {},
   "source": [
    "### sorted 사용 + 리스트를 줄바꿈해서 print 하는 방법!!\n",
    "\n",
    "- '\\n'.join()\n",
    "- sorted()\n",
    "- map(원하는 형식, 리스트)\n",
    "\n",
    "(질문) 근데 왜 pypy3???! 아니면 런타임 에러나, 시간 초과 뜹니다! "
   ]
  },
  {
   "cell_type": "code",
   "execution_count": 19,
   "metadata": {},
   "outputs": [
    {
     "name": "stdout",
     "output_type": "stream",
     "text": [
      "5\n",
      "5\n",
      "4\n",
      "8\n",
      "2\n",
      "1\n",
      "1\n",
      "2\n",
      "4\n",
      "5\n",
      "8\n"
     ]
    }
   ],
   "source": [
    "V = [int(input()) for i in range(int(input()))]\n",
    "print('\\n'.join(map(str,sorted(V)))) "
   ]
  },
  {
   "cell_type": "markdown",
   "metadata": {},
   "source": [
    "## 10989 수 정렬하기 3, 뒤에서부터 오는 버블정렬 사용(시간 초과), 카운팅 정렬?\n",
    "\n",
    "병합이나 힙?!"
   ]
  },
  {
   "cell_type": "code",
   "execution_count": 12,
   "metadata": {
    "collapsed": true
   },
   "outputs": [
    {
     "name": "stdout",
     "output_type": "stream",
     "text": [
      "5\n",
      "5\n",
      "4\n",
      "3\n",
      "1\n",
      "2\n"
     ]
    },
    {
     "ename": "TypeError",
     "evalue": "'list' object is not callable",
     "output_type": "error",
     "traceback": [
      "\u001b[1;31m---------------------------------------------------------------------------\u001b[0m",
      "\u001b[1;31mTypeError\u001b[0m                                 Traceback (most recent call last)",
      "\u001b[1;32m<ipython-input-12-dd259c58fdd4>\u001b[0m in \u001b[0;36m<module>\u001b[1;34m\u001b[0m\n\u001b[0;32m     13\u001b[0m \u001b[1;33m\u001b[0m\u001b[0m\n\u001b[0;32m     14\u001b[0m \u001b[1;32mfor\u001b[0m \u001b[0m_\u001b[0m \u001b[1;32min\u001b[0m \u001b[0mrange\u001b[0m\u001b[1;33m(\u001b[0m\u001b[0mlen\u001b[0m\u001b[1;33m(\u001b[0m\u001b[0mnumlist\u001b[0m\u001b[1;33m)\u001b[0m\u001b[1;33m)\u001b[0m\u001b[1;33m:\u001b[0m\u001b[1;33m\u001b[0m\u001b[1;33m\u001b[0m\u001b[0m\n\u001b[1;32m---> 15\u001b[1;33m     \u001b[0mprint\u001b[0m\u001b[1;33m(\u001b[0m\u001b[0mnumlist\u001b[0m\u001b[1;33m(\u001b[0m\u001b[0m_\u001b[0m\u001b[1;33m)\u001b[0m\u001b[1;33m)\u001b[0m\u001b[1;33m\u001b[0m\u001b[1;33m\u001b[0m\u001b[0m\n\u001b[0m",
      "\u001b[1;31mTypeError\u001b[0m: 'list' object is not callable"
     ]
    }
   ],
   "source": [
    "numlist = []\n",
    "N = int(input())\n",
    "\n",
    "for n in range(N):\n",
    "    new = int(input())\n",
    "    numlist.append(new) #일단 뒤에 쌓아\n",
    "    \n",
    "    for index in range(len(numlist) -1 ,0,-1): #뒤에서 부터 옵니다. 아 헷갈린다아아!!\n",
    "        if numlist[index] > numlist[index -1]:\n",
    "            numlist[index], numlist[index -1] = numlist[index -1], numlist[index]\n",
    "        else:\n",
    "            break\n",
    "\n",
    "for _ in range(len(numlist)):\n",
    "    print(numlist[_])"
   ]
  },
  {
   "cell_type": "markdown",
   "metadata": {},
   "source": [
    "## 2108 통계학, 최빈값 못풀겠\n",
    "\n",
    "(질문) int해줬는데 자동으로 소수점 계산 되네요?\n",
    "\n",
    "(질문) 올림 내장함수 아시는분~ 소리 질러~!!\n",
    "\n",
    "(동환이형) 끝에 엔터로 끝나는 print 인자 뭐였지?\n",
    "\n",
    "- sum()\n",
    "- 리스트.count(리스트의 원소) = 그 갯수가 담김\n",
    "- from collections import Counter 튜플로 원소와 갯수를 담아줌"
   ]
  },
  {
   "cell_type": "code",
   "execution_count": 40,
   "metadata": {
    "scrolled": true
   },
   "outputs": [
    {
     "name": "stdout",
     "output_type": "stream",
     "text": [
      "5\n",
      "4\n",
      "3\n",
      "2\n",
      "1\n",
      "8\n",
      "3.6 4 1 7\n"
     ]
    }
   ],
   "source": [
    "def mean(data): #평균\n",
    "    return sum(data) / len(data)\n",
    "\n",
    "def middle(data): #중앙값\n",
    "    i = int(len(data)/2) + 1 # 올림 내장함수 아시는분~ 소리 질러~!!\n",
    "    return data[i]\n",
    "\n",
    "def many(data): #최빈값 #고려사항 : 1. 모든 원소값 다름, 2.도수값이 같은게 두개 이상인 경우\n",
    "    for i in range(len(data)):\n",
    "        return 1\n",
    "    \n",
    "def minus(data): #최대 최소 차이\n",
    "    return data[-1] - data[0]\n",
    "\n",
    "\n",
    "numlist_ = [int(input()) for i in range(int(input()))]\n",
    "numlist = sorted(numlist_)\n",
    "\n",
    "print(mean(numlist),middle(numlist), many(numlist), minus(numlist),end = '\\n') "
   ]
  },
  {
   "cell_type": "markdown",
   "metadata": {},
   "source": [
    "## 1427 소트인사이드\n",
    "\n",
    "- sorted(리스트, reverse=True)"
   ]
  },
  {
   "cell_type": "code",
   "execution_count": 18,
   "metadata": {},
   "outputs": [
    {
     "name": "stdout",
     "output_type": "stream",
     "text": [
      "5168464\n",
      "8665441\n"
     ]
    }
   ],
   "source": [
    "V = str(input())  #애초에 스트링으로 쌓기\n",
    "print(''.join(sorted(V, reverse=True)))"
   ]
  },
  {
   "cell_type": "code",
   "execution_count": 15,
   "metadata": {},
   "outputs": [
    {
     "data": {
      "text/plain": [
       "['1', '2', '2', '3', '3', '3', '5']"
      ]
     },
     "execution_count": 15,
     "metadata": {},
     "output_type": "execute_result"
    }
   ],
   "source": [
    "a = '1235323'\n",
    "sorted(a)"
   ]
  },
  {
   "cell_type": "markdown",
   "metadata": {},
   "source": [
    "## 11650 좌표1"
   ]
  },
  {
   "cell_type": "code",
   "execution_count": null,
   "metadata": {},
   "outputs": [],
   "source": [
    "N = int(input())\n",
    "dot_list = []\n",
    "\n",
    "for _ in range(N):\n",
    "    dot_list.append(list(map(int, input().split())))\n",
    "    \n",
    "dot_list.sort(key = lambda dot: (dot[0], dot[1]))\n",
    "for [i, j] in dot_list:\n",
    "    print(i, j)"
   ]
  },
  {
   "cell_type": "markdown",
   "metadata": {},
   "source": [
    "## 11651 좌표2\n",
    "- sort에서 key와 람다 이해가 빡샜음"
   ]
  },
  {
   "cell_type": "code",
   "execution_count": null,
   "metadata": {},
   "outputs": [],
   "source": [
    "N = int(input())\n",
    "dot_list = []\n",
    "\n",
    "for _ in range(N):\n",
    "    dot_list.append(list(map(int, input().split())))\n",
    "    \n",
    "dot_list.sort(key = lambda dot: (dot[1], dot[0]))\n",
    "for [i, j] in dot_list:\n",
    "    print(i, j)"
   ]
  },
  {
   "cell_type": "markdown",
   "metadata": {},
   "source": [
    "## 1181 길이순, 알파벳 순으로 정렬 (퀵정렬 사용)"
   ]
  },
  {
   "cell_type": "code",
   "execution_count": 10,
   "metadata": {},
   "outputs": [
    {
     "data": {
      "text/plain": [
       "['abc', 'aww', 'bca', 'i', 'zew']"
      ]
     },
     "execution_count": 10,
     "metadata": {},
     "output_type": "execute_result"
    }
   ],
   "source": [
    "sorted(['zew','abc','bca','aww','i'])"
   ]
  },
  {
   "cell_type": "code",
   "execution_count": 12,
   "metadata": {},
   "outputs": [
    {
     "name": "stdout",
     "output_type": "stream",
     "text": [
      "3\n",
      "zea\n",
      "i\n",
      "abc\n",
      "i\n",
      "zea\n",
      "abc\n"
     ]
    }
   ],
   "source": [
    "def qsort(data):\n",
    "    if len(data) <= 1:\n",
    "        return data\n",
    "    \n",
    "    left, right = list(), list()\n",
    "    pivot = data[0]\n",
    "    \n",
    "    for index in range(1, len(data)):\n",
    "        if len(pivot) > len(data[index]):\n",
    "            left.append(data[index])\n",
    "        elif len(pivot) == len(data[index]):    #길이가 같을 경우 부분 ㅠㅠㅠㅠ 반대로 되냐 왜!!\n",
    "            tmp = [pivot, data[index]]\n",
    "            sorted(tmp)\n",
    "            if tmp[0] == data[index]:\n",
    "                left.append(data[index])\n",
    "            elif tmp[0] == pivot:\n",
    "                right.append(data[index])\n",
    "        else:\n",
    "            right.append(data[index])\n",
    "    \n",
    "    return qsort(left) + [pivot] + qsort(right)\n",
    "\n",
    "strlist = [ input() for i in range(int(input()))] # N개의 str 입력\n",
    "\n",
    "print('\\n'.join(qsort(strlist)))"
   ]
  },
  {
   "cell_type": "markdown",
   "metadata": {},
   "source": [
    "### 구글링 : dict로 그냥 풀기\n",
    "\n",
    "<이거 기억하기>\n",
    "\n",
    "- for j in set_voca_list:\n",
    "\n",
    "    sort_voca_list.append((len(j), j))      # 단어의 길이와 단어를 같이 리스트화 시켜 저장"
   ]
  },
  {
   "cell_type": "code",
   "execution_count": null,
   "metadata": {},
   "outputs": [],
   "source": [
    "voca_list = []\n",
    "for i in range(int(input())):               # 테스트케이스 수 입력\n",
    "    voca_list.append(input())               # 입력하는 단어를 리스트로 저장\n",
    "\n",
    "set_voca_list = list(set(voca_list))        # 리스트의 중복 제거 \n",
    "sort_voca_list = []\n",
    " \n",
    "for j in set_voca_list:\n",
    "    sort_voca_list.append((len(j), j))      # 단어의 길이와 단어를 같이 리스트화 시켜 저장\n",
    "\n",
    "sort_voca_list.sort()                       # sort()는 len(j), j 에서 앞을 먼저 정렬후에 앞의 조건이 일치하면 뒤를 정렬한다.\n",
    " \n",
    "for len_voca, voca in sort_voca_list:       # 리스트를 순환시켜 순서대로 출력\n",
    "    print(voca)"
   ]
  },
  {
   "cell_type": "markdown",
   "metadata": {},
   "source": [
    "## 10814 나이순"
   ]
  },
  {
   "cell_type": "code",
   "execution_count": null,
   "metadata": {},
   "outputs": [],
   "source": [
    "N = int(input())\n",
    "dot_list = []\n",
    "\n",
    "for _ in range(N):\n",
    "    dot_list.append(list(input().split()) + [_])\n",
    "    \n",
    "dot_list.sort(key = lambda dot: (dot[0], dot[2])) # 두번째 기준을 인덱스로 해줘버리기!\n",
    "for [i, j] in dot_list:\n",
    "    print(i, j)"
   ]
  }
 ],
 "metadata": {
  "kernelspec": {
   "display_name": "Python 3",
   "language": "python",
   "name": "python3"
  },
  "language_info": {
   "codemirror_mode": {
    "name": "ipython",
    "version": 3
   },
   "file_extension": ".py",
   "mimetype": "text/x-python",
   "name": "python",
   "nbconvert_exporter": "python",
   "pygments_lexer": "ipython3",
   "version": "3.7.1"
  }
 },
 "nbformat": 4,
 "nbformat_minor": 2
}
