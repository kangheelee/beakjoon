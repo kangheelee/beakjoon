{
 "cells": [
  {
   "cell_type": "markdown",
   "metadata": {},
   "source": [
    "## 2월 18일"
   ]
  },
  {
   "cell_type": "code",
   "execution_count": 2,
   "metadata": {},
   "outputs": [
    {
     "name": "stdout",
     "output_type": "stream",
     "text": [
      "8\n"
     ]
    }
   ],
   "source": [
    "#2748 피보나치 : 재귀 이용해서 풀기(Recusive Call)\n",
    "\n",
    "def pibo(data):\n",
    "    if data == 1:\n",
    "        return 0\n",
    "    if data == 2:\n",
    "        return 1\n",
    "    else:\n",
    "        return pibo(data-1) + pibo(data-2)\n",
    "    \n",
    "print(pibo(7))"
   ]
  },
  {
   "cell_type": "code",
   "execution_count": 11,
   "metadata": {},
   "outputs": [
    {
     "name": "stdout",
     "output_type": "stream",
     "text": [
      "2\n",
      "1\n"
     ]
    }
   ],
   "source": [
    "#2748 피보나치 : DP활용하기 / N이 매우 클 경우!! 사용\n",
    "\n",
    "def fibo_dp(num):\n",
    "    cache = [ 0 for index in range(num + 1)] #저장 공간 만들기 python comprehension 보기\n",
    "    cache[0] = 0\n",
    "    cache[1] = 1\n",
    "    \n",
    "    for index in range(2, num + 1):\n",
    "        cache[index] = cache[index - 1] + cache[index - 2]\n",
    "    return cache[num]\n",
    "\n",
    "N = int(input())\n",
    "\n",
    "print(fibo_dp(N))"
   ]
  },
  {
   "cell_type": "code",
   "execution_count": 1,
   "metadata": {},
   "outputs": [
    {
     "name": "stdout",
     "output_type": "stream",
     "text": [
      "3\n",
      "0\n",
      "1 0\n",
      "4\n",
      "2 3\n",
      "5\n",
      "3 5\n"
     ]
    }
   ],
   "source": [
    "#1003 피보나치 안에서 피보나치\n",
    "def count_fibonacci(n): # 따로 피보나치를 만든다!!!!!!!\n",
    "    zero_count = [1,0] #공간 먼저 만들어주기\n",
    "    one_count = [0,1] # 공간 먼저\n",
    "    if n <= 1:\n",
    "        return\n",
    " \n",
    "    for i in range(2, n+1):\n",
    "        zero_count.append(zero_count[i-1] + zero_count[i-2]) # append 쓰면 꼭 저장 공간 미리 할당 할 필요가 없음!!\n",
    "        one_count.append(one_count[i-1] + one_count[i-2])\n",
    " \n",
    "    return zero_count, one_count\n",
    " \n",
    "n = int(input())\n",
    "\n",
    "zero_count, one_count = count_fibonacci(40) # n이 40보다 작은 자연수이므로....? 음... 이래도 되나!! \n",
    "                                            #그때 그때 계속 돌리면 DP인 의미가 없는 것 같아서\n",
    "\n",
    "for _ in range(n):\n",
    "    m = int(input())\n",
    "    print('{} {}'.format(zero_count[m], one_count[m]))"
   ]
  },
  {
   "cell_type": "code",
   "execution_count": 13,
   "metadata": {},
   "outputs": [
    {
     "name": "stdout",
     "output_type": "stream",
     "text": [
      "0001011000\n",
      "0000101111\n"
     ]
    }
   ],
   "source": [
    "#1904 01타일\n",
    "A = str(input())\n",
    "B = str(input())\n"
   ]
  },
  {
   "cell_type": "code",
   "execution_count": 25,
   "metadata": {},
   "outputs": [
    {
     "data": {
      "text/plain": [
       "'0001011000'"
      ]
     },
     "execution_count": 25,
     "metadata": {},
     "output_type": "execute_result"
    }
   ],
   "source": [
    "A"
   ]
  },
  {
   "cell_type": "code",
   "execution_count": 26,
   "metadata": {
    "scrolled": true
   },
   "outputs": [
    {
     "data": {
      "text/plain": [
       "'0000101111'"
      ]
     },
     "execution_count": 26,
     "metadata": {},
     "output_type": "execute_result"
    }
   ],
   "source": [
    "B"
   ]
  },
  {
   "cell_type": "code",
   "execution_count": 22,
   "metadata": {},
   "outputs": [
    {
     "name": "stdout",
     "output_type": "stream",
     "text": [
      "['0', '0', '0', '0', '0', '0', '1', '0', '0', '0']\n"
     ]
    }
   ],
   "source": [
    "# & 만들기\n",
    "list1 = []\n",
    "for _ in range(len(A)):\n",
    "    if A[_] == '1' and B[_] == '1':\n",
    "        list1.append('1')\n",
    "    else:\n",
    "        list1.append('0')\n",
    "print(list1)"
   ]
  },
  {
   "cell_type": "code",
   "execution_count": 27,
   "metadata": {},
   "outputs": [
    {
     "name": "stdout",
     "output_type": "stream",
     "text": [
      "['0', '0', '0', '1', '1', '1', '1', '1', '1', '1']\n"
     ]
    }
   ],
   "source": [
    "# | 만들기\n",
    "list2 = []\n",
    "for _ in range(len(A)):\n",
    "    if A[_] == '1' or B[_] == '1':\n",
    "        list2.append('1')\n",
    "    else:\n",
    "        list2.append('0')\n",
    "print(list2)"
   ]
  },
  {
   "cell_type": "code",
   "execution_count": 29,
   "metadata": {},
   "outputs": [
    {
     "name": "stdout",
     "output_type": "stream",
     "text": [
      "['0', '0', '0', '1', '1', '1', '0', '1', '1', '1']\n"
     ]
    }
   ],
   "source": [
    "# ^ 만들기\n",
    "list3 = []\n",
    "for _ in range(len(A)):\n",
    "    if A[_] == B[_]:\n",
    "        list3.append('0')\n",
    "    else:\n",
    "        list3.append('1')\n",
    "print(list3)"
   ]
  },
  {
   "cell_type": "code",
   "execution_count": 34,
   "metadata": {},
   "outputs": [
    {
     "name": "stdout",
     "output_type": "stream",
     "text": [
      "1110100111\n"
     ]
    }
   ],
   "source": [
    "# ~A 만들기\n",
    "list4 = ''\n",
    "for _ in range(len(A)):\n",
    "    if A[_] == '0':\n",
    "        list4 += '1'\n",
    "    else:\n",
    "        list4 += '0'\n",
    "print(list4)"
   ]
  },
  {
   "cell_type": "code",
   "execution_count": 35,
   "metadata": {},
   "outputs": [
    {
     "name": "stdout",
     "output_type": "stream",
     "text": [
      "['1', '1', '1', '1', '0', '1', '0', '0', '0', '0']\n"
     ]
    }
   ],
   "source": [
    "# ~B 만들기\n",
    "list5 = []\n",
    "for _ in range(len(A)):\n",
    "    if B[_] == '0':\n",
    "        list5.append('1')\n",
    "    else:\n",
    "        list5.append('0')\n",
    "print(list5)"
   ]
  },
  {
   "cell_type": "code",
   "execution_count": null,
   "metadata": {},
   "outputs": [],
   "source": []
  }
 ],
 "metadata": {
  "kernelspec": {
   "display_name": "Python 3",
   "language": "python",
   "name": "python3"
  },
  "language_info": {
   "codemirror_mode": {
    "name": "ipython",
    "version": 3
   },
   "file_extension": ".py",
   "mimetype": "text/x-python",
   "name": "python",
   "nbconvert_exporter": "python",
   "pygments_lexer": "ipython3",
   "version": "3.7.1"
  }
 },
 "nbformat": 4,
 "nbformat_minor": 2
}
